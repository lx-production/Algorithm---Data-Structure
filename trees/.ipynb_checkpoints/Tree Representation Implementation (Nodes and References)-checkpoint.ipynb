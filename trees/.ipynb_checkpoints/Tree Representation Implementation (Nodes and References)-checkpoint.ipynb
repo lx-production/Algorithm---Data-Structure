{
 "cells": [
  {
   "cell_type": "markdown",
   "metadata": {},
   "source": [
    "# Nodes and References Implementation of a Tree\n",
    "\n",
    "In this notebook is the code corresponding to the lecture for implementing the representation of a Tree as a class with nodes and references!"
   ]
  },
  {
   "cell_type": "code",
   "execution_count": 1,
   "metadata": {},
   "outputs": [
    {
     "data": {
      "image/png": "[encoded data removed]",
      "text/plain": [
       "<IPython.core.display.Image object>"
      ]
     },
     "execution_count": 1,
     "metadata": {},
     "output_type": "execute_result"
    }
   ],
   "source": [
    "from IPython.display import Image\n",
    "Image(\"/home/huynguyen/Desktop/temp/Algorithm---Data-Structure/trees/inorder.svg.png\")\n",
    "\n",
    "Inorder: "
   ]
  },
  {
   "cell_type": "code",
   "execution_count": 1,
   "metadata": {
    "collapsed": true
   },
   "outputs": [],
   "source": [
    "class BinaryTree(object):\n",
    "    def __init__(self,rootObj):\n",
    "        self.key = rootObj\n",
    "        self.leftChild = None\n",
    "        self.rightChild = None\n",
    "\n",
    "    def insertLeft(self,newNode):\n",
    "        if self.leftChild == None:\n",
    "            self.leftChild = BinaryTree(newNode)\n",
    "        else:\n",
    "            t = BinaryTree(newNode)\n",
    "            t.leftChild = self.leftChild\n",
    "            self.leftChild = t\n",
    "\n",
    "    def insertRight(self,newNode):\n",
    "        if self.rightChild == None:\n",
    "            self.rightChild = BinaryTree(newNode)\n",
    "        else:\n",
    "            t = BinaryTree(newNode)\n",
    "            t.rightChild = self.rightChild\n",
    "            self.rightChild = t\n",
    "\n",
    "\n",
    "    def getRightChild(self):\n",
    "        return self.rightChild\n",
    "\n",
    "    def getLeftChild(self):\n",
    "        return self.leftChild\n",
    "\n",
    "    def setRootVal(self,obj):\n",
    "        self.key = obj\n",
    "\n",
    "    def getRootVal(self):\n",
    "        return self.key"
   ]
  },
  {
   "cell_type": "code",
   "execution_count": 15,
   "metadata": {
    "collapsed": true
   },
   "outputs": [],
   "source": [
    "def preorder(tree):\n",
    "    if tree:\n",
    "        print (tree.getRootVal()),\n",
    "        preorder(tree.getLeftChild())\n",
    "        preorder(tree.getRightChild())\n",
    "\n",
    "def postorder(tree):\n",
    "    if tree:\n",
    "        postorder(tree.getLeftChild())\n",
    "        postorder(tree.getRightChild())\n",
    "        print (tree.getRootVal())    \n",
    "\n",
    "def inorder(tree):\n",
    "    if tree:\n",
    "        inorder(tree.getLeftChild())\n",
    "        print (tree.getRootVal())\n",
    "        inorder(tree.getRightChild())"
   ]
  },
  {
   "cell_type": "markdown",
   "metadata": {},
   "source": [
    "We can see some examples of creating a tree and assigning children. Note that some outputs are Trees themselves!"
   ]
  },
  {
   "cell_type": "code",
   "execution_count": 27,
   "metadata": {},
   "outputs": [
    {
     "name": "stdout",
     "output_type": "stream",
     "text": [
      "1\n",
      "2\n",
      "4\n",
      "8\n",
      "9\n",
      "5\n",
      "3\n",
      "6\n",
      "7\n"
     ]
    }
   ],
   "source": [
    "from __future__ import print_function\n",
    "\n",
    "r = BinaryTree(1)\n",
    "#print(r.getRootVal())\n",
    "#print(r.getLeftChild())\n",
    "r.insertLeft(2)\n",
    "b = r.getLeftChild()\n",
    "b.insertLeft(4)\n",
    "b.insertRight(5)\n",
    "d = b.getLeftChild()\n",
    "d.insertLeft(8)\n",
    "d.insertRight(9)\n",
    "#print(r.getLeftChild())\n",
    "#print(r.getLeftChild().getRootVal())\n",
    "r.insertRight(3)\n",
    "c = r.getRightChild()\n",
    "c.insertLeft(6)\n",
    "c.insertRight(7)\n",
    "#print(r.getRightChild())\n",
    "#print(r.getRightChild().getRootVal())\n",
    "#r.getRightChild().setRootVal('hello')\n",
    "#print(r.getRightChild().getRootVal())\n",
    "\n",
    "preorder(r)\n",
    "#inorder(r)\n",
    "#postorder(r)"
   ]
  },
  {
   "cell_type": "code",
   "execution_count": 28,
   "metadata": {},
   "outputs": [
    {
     "name": "stdout",
     "output_type": "stream",
     "text": [
      "8\n",
      "4\n",
      "9\n",
      "2\n",
      "5\n",
      "1\n",
      "6\n",
      "3\n",
      "7\n"
     ]
    }
   ],
   "source": [
    "inorder(r)"
   ]
  },
  {
   "cell_type": "code",
   "execution_count": 29,
   "metadata": {},
   "outputs": [
    {
     "name": "stdout",
     "output_type": "stream",
     "text": [
      "8\n",
      "9\n",
      "4\n",
      "5\n",
      "2\n",
      "6\n",
      "7\n",
      "3\n",
      "1\n"
     ]
    }
   ],
   "source": [
    "postorder(r)"
   ]
  },
  {
   "cell_type": "code",
   "execution_count": null,
   "metadata": {
    "collapsed": true
   },
   "outputs": [],
   "source": []
  }
 ],
 "metadata": {
  "kernelspec": {
   "display_name": "Python 2",
   "language": "python",
   "name": "python2"
  },
  "language_info": {
   "codemirror_mode": {
    "name": "ipython",
    "version": 2
   },
   "file_extension": ".py",
   "mimetype": "text/x-python",
   "name": "python",
   "nbconvert_exporter": "python",
   "pygments_lexer": "ipython2",
   "version": "2.7.13"
  }
 },
 "nbformat": 4,
 "nbformat_minor": 1
}
