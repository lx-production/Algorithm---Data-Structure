{
 "cells": [
  {
   "cell_type": "markdown",
   "metadata": {},
   "source": [
    "# Implement a Linked List - SOLUTION\n",
    "\n",
    "## Problem Statement\n",
    "\n",
    "Implement a Linked List by using a Node class object. Show how you would implement a Singly Linked List *and* a Doubly Linked List!\n",
    "\n",
    "## Solution\n",
    "\n",
    "Since this is asking the same thing as the implementation lectures, please refer to those video lectures and notes for a full explanation. The code from those lectures is displayed below:"
   ]
  },
  {
   "cell_type": "markdown",
   "metadata": {},
   "source": [
    "### Singly Linked List"
   ]
  },
  {
   "cell_type": "code",
   "execution_count": 54,
   "metadata": {
    "collapsed": true
   },
   "outputs": [],
   "source": [
    "class Node(object):\n",
    "    \n",
    "    def __init__(self,data):\n",
    "        \n",
    "        self.data = data\n",
    "        self.next = None\n",
    "        \n",
    "class LinkedList(object):\n",
    "    def __init__(self):\n",
    "        self.head = None\n",
    "        self.tail = None\n",
    "        self.size = 0\n",
    "        \n",
    "    def add_tail(self,data):\n",
    "        new = Node(data)\n",
    "        if self.tail:\n",
    "            self.tail.next = new\n",
    "            self.tail = new\n",
    "        else:\n",
    "            #self.head = new\n",
    "            self.tail = new\n",
    "        self.size += 1\n",
    "        \n",
    "    def add_head(self, data):\n",
    "        new = Node(data)\n",
    "        if self.head == None:\n",
    "            self.head = new\n",
    "            self.head.next = self.tail\n",
    "        else:\n",
    "            self.head.next = self.tail\n",
    "            new.next = self.head\n",
    "            self.head = new\n",
    "            \n",
    "        self.size += 1\n",
    "            \n",
    "    def add_at(self, index, data):\n",
    "        new = Node(data)\n",
    "        prev = None\n",
    "        cur = self.head\n",
    "        i = 0\n",
    "        while i < index and cur.next:\n",
    "            prev = cur\n",
    "            cur = cur.next\n",
    "            i += 1\n",
    "        if i == index:\n",
    "            prev.next = new\n",
    "            new.next = cur\n",
    "            self.size += 1\n",
    "        else:\n",
    "            return False # Index out of bound\n",
    "        \n",
    "    def remove(self, data):\n",
    "        prev = None\n",
    "        cur = self.head\n",
    "        while cur:\n",
    "            if cur.data == data:\n",
    "                if prev:\n",
    "                    prev.next = cur.next\n",
    "                else:\n",
    "                    self.head = cur.next\n",
    "                self.size -= 1\n",
    "                return True\n",
    "            prev = cur\n",
    "            cur = cur.next\n",
    "        return False\n",
    "    \n",
    "    def find(self, data):\n",
    "        while self.head:\n",
    "            if self.head.data == data:\n",
    "                return True\n",
    "            self.head = self.head.next\n",
    "        return False\n",
    "        \n",
    "    def to_list(self):\n",
    "        l = []\n",
    "        cur = self.head\n",
    "        while cur:\n",
    "            l.append(cur.data)\n",
    "            cur = cur.next\n",
    "        return l\n",
    "    \n",
    "    def listsize(self):\n",
    "        return self.size"
   ]
  },
  {
   "cell_type": "code",
   "execution_count": 56,
   "metadata": {},
   "outputs": [
    {
     "data": {
      "text/plain": [
       "False"
      ]
     },
     "execution_count": 56,
     "metadata": {},
     "output_type": "execute_result"
    }
   ],
   "source": [
    "ll = LinkedList()\n",
    "ll.add_head(1)\n",
    "ll.add_tail(2)\n",
    "ll.add_head(0)\n",
    "ll.add_tail(3)\n",
    "ll.add_tail(4)\n",
    "ll.add_at(1, 1.5)\n",
    "#print ll.head.next.next.next.data\n",
    "ll.remove(4)\n",
    "#ll.to_list()\n",
    "#ll.listsize()\n",
    "ll.find(1.6)"
   ]
  },
  {
   "cell_type": "markdown",
   "metadata": {},
   "source": [
    "### Doubly Linked List"
   ]
  },
  {
   "cell_type": "code",
   "execution_count": 4,
   "metadata": {
    "collapsed": true
   },
   "outputs": [],
   "source": [
    "class DoublyLinkedListNode(object):\n",
    "    \n",
    "    def __init__(self,value):\n",
    "        \n",
    "        self.value = value\n",
    "        self.next_node = None\n",
    "        self.prev_node = None"
   ]
  },
  {
   "cell_type": "code",
   "execution_count": 5,
   "metadata": {
    "collapsed": true
   },
   "outputs": [],
   "source": [
    "a = DoublyLinkedListNode(1)\n",
    "b = DoublyLinkedListNode(2)\n",
    "c = DoublyLinkedListNode(3)"
   ]
  },
  {
   "cell_type": "code",
   "execution_count": 6,
   "metadata": {
    "collapsed": true
   },
   "outputs": [],
   "source": [
    "# Setting b after a\n",
    "b.prev_node = a\n",
    "a.next_node = b"
   ]
  },
  {
   "cell_type": "code",
   "execution_count": 7,
   "metadata": {
    "collapsed": true
   },
   "outputs": [],
   "source": [
    "# Setting c after a\n",
    "b.next_node = c\n",
    "c.prev_node = b"
   ]
  },
  {
   "cell_type": "markdown",
   "metadata": {},
   "source": [
    "## Good Job!"
   ]
  }
 ],
 "metadata": {
  "kernelspec": {
   "display_name": "Python 2",
   "language": "python",
   "name": "python2"
  },
  "language_info": {
   "codemirror_mode": {
    "name": "ipython",
    "version": 2
   },
   "file_extension": ".py",
   "mimetype": "text/x-python",
   "name": "python",
   "nbconvert_exporter": "python",
   "pygments_lexer": "ipython2",
   "version": "2.7.13"
  }
 },
 "nbformat": 4,
 "nbformat_minor": 1
}
