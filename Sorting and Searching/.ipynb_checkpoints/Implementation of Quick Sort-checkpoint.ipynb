{
 "cells": [
  {
   "cell_type": "markdown",
   "metadata": {},
   "source": [
    "# Implementation of Quick Sort\n",
    "\n",
    "A quick sort first selects a value, which is called the pivot value. Although there are many different ways to choose the pivot value, we will simply use the first item in the list. The role of the pivot value is to assist with splitting the list. The actual position where the pivot value belongs in the final sorted list, commonly called the split point, will be used to divide the list for subsequent calls to the quick sort."
   ]
  },
  {
   "cell_type": "markdown",
   "metadata": {},
   "source": [
    "# Resources for Review\n",
    "\n",
    "Check out the resources below for a review of Insertion sort!\n",
    "\n",
    "* [Wikipedia](https://en.wikipedia.org/wiki/Quicksort)\n",
    "* [Visual Algo](http://visualgo.net/sorting.html)\n",
    "* [Sorting Algorithms Animcation with Pseudocode](http://www.sorting-algorithms.com/quick-sort)"
   ]
  },
  {
   "cell_type": "code",
   "execution_count": 5,
   "metadata": {
    "collapsed": true
   },
   "outputs": [],
   "source": [
    "def quick_sort(arr):\n",
    "    \n",
    "    quick_sort_help(arr,0,len(arr)-1)\n",
    "\n",
    "def quick_sort_help(arr,first,last):  # first, last = indexes\n",
    "    # Base case: first >= last, i.e. subarr/partition has 0 or 1 elems\n",
    "    # already in sorted position, do nothing\n",
    "    \n",
    "    if first<last:\n",
    "        \n",
    "\n",
    "        splitpoint = partition(arr,first,last)\n",
    "\n",
    "        quick_sort_help(arr,first,splitpoint-1)\n",
    "        quick_sort_help(arr,splitpoint+1,last)\n",
    "\n",
    "\n",
    "def partition(arr,first,last):\n",
    "    \n",
    "    pivotvalue = arr[first]\n",
    "\n",
    "    leftmark = first+1\n",
    "    rightmark = last\n",
    "\n",
    "    done = False\n",
    "    while not done:\n",
    "\n",
    "        while leftmark <= rightmark and arr[leftmark] <= pivotvalue:\n",
    "            leftmark = leftmark + 1\n",
    "\n",
    "        while arr[rightmark] >= pivotvalue and rightmark >= leftmark:\n",
    "            rightmark = rightmark -1\n",
    "\n",
    "        if rightmark < leftmark:\n",
    "            done = True\n",
    "        else:\n",
    "            #temp = arr[leftmark]\n",
    "            #arr[leftmark] = arr[rightmark]\n",
    "            #arr[rightmark] = temp\n",
    "            arr[leftmark], arr[rightmark] = arr[rightmark], arr[leftmark]\n",
    "\n",
    "    #temp = arr[first]\n",
    "    #arr[first] = arr[rightmark]\n",
    "    #arr[rightmark] = temp\n",
    "    arr[first], arr[rightmark] = arr[rightmark], arr[first]\n",
    "\n",
    "\n",
    "    return rightmark"
   ]
  },
  {
   "cell_type": "code",
   "execution_count": null,
   "metadata": {
    "collapsed": true
   },
   "outputs": [],
   "source": [
    "# Algorithm matching Visualgo.net\n",
    "def quick_sort2(arr):\n",
    "    quick_sort_helper2(arr, 0, len(arr) - 1)\n",
    "\n",
    "def quick_sort_helper2(arr, start, end):\n",
    "    # Base case: start >= end, i.e. subarr/partition has 0 or 1 elems\n",
    "    # already in sorted position, do nothing\n",
    "    \n",
    "    # Recursive case:\n",
    "    if start < end:\n",
    "        # Partition arr & find split point:\n",
    "        split_point = partition2(arr, start, end)\n",
    "        # sort left partition:\n",
    "        quick_sort_helper2(arr, start, split_point - 1)\n",
    "        # sort right partition:\n",
    "        quick_sort_helper2(arr, split_point + 1, end)\n",
    "        \n",
    "def partition2(arr, begin, end):\n",
    "    # Choose first elem as pivot\n",
    "    split_point = begin\n",
    "    pivot = arr[begin]\n",
    "    \n",
    "    # STEP 1: find all elems to right of pivot that are smaller than the pivot\n",
    "    # for each elem right of arr:\n",
    "    for i in range(begin + 1, end + 1):\n",
    "        # if elem found smaller than pivot:\n",
    "        if arr[i] <= pivot:\n",
    "            # move split point right, i.e. the \"wall\"\n",
    "            split_point += 1\n",
    "            # shift elem @ split point w/ elem that belongs left of it\n",
    "            arr[i], arr[split_point] = arr[split_point], arr[i]\n",
    "    \n",
    "    # STEP 2: once all smaller elems are left of split point, move pivot to correct split point \n",
    "    # i.e. its final correct pos in array\n",
    "    arr[split_point], arr[begin] = arr[begin], arr[split_point]\n",
    "    #print(\"PARTITION!\", str(arr[:split_point]), str(arr[split_point]), str(arr[split_point + 1:]))\n",
    "    \n",
    "    # STEP 3: return split point to use in recursive calls\n",
    "    # this is the idx future partitions will be based off of\n",
    "    return split_point"
   ]
  },
  {
   "cell_type": "code",
   "execution_count": 5,
   "metadata": {
    "collapsed": true
   },
   "outputs": [],
   "source": [
    "from random import randint\n",
    "\n",
    "def quicksort3(a):\n",
    "    if len(a) <= 1:\n",
    "        return a\n",
    "        \n",
    "    smaller, equal, larger = [],[],[]\n",
    "    pivot = a[randint(0, len(a)-1)]  \n",
    "\n",
    "    for x in a:\n",
    "        if x < pivot:\n",
    "            smaller.append(x)\n",
    "        elif x == pivot:\n",
    "            equal.append(x)\n",
    "        else:\n",
    "            larger.append(x)\n",
    "\n",
    "    return quicksort3(smaller) + equal + quicksort3(larger)"
   ]
  },
  {
   "cell_type": "code",
   "execution_count": 15,
   "metadata": {},
   "outputs": [
    {
     "data": {
      "text/plain": [
       "0"
      ]
     },
     "execution_count": 15,
     "metadata": {},
     "output_type": "execute_result"
    }
   ],
   "source": [
    "from random import randint\n",
    "arr = [2,5,4,6,7,3,1,4,12,11,-8]\n",
    "randint(0, len(arr)-1)"
   ]
  },
  {
   "cell_type": "code",
   "execution_count": 11,
   "metadata": {},
   "outputs": [
    {
     "data": {
      "text/plain": [
       "[-8, 1, 2, 3, 4, 4, 5, 6, 7, 11, 12]"
      ]
     },
     "execution_count": 11,
     "metadata": {},
     "output_type": "execute_result"
    }
   ],
   "source": [
    "arr = [2,5,4,6,7,3,1,4,12,11,-8]\n",
    "quicksort3(arr)\n"
   ]
  },
  {
   "cell_type": "markdown",
   "metadata": {},
   "source": [
    "# Good Job!"
   ]
  }
 ],
 "metadata": {
  "kernelspec": {
   "display_name": "Python 2",
   "language": "python",
   "name": "python2"
  },
  "language_info": {
   "codemirror_mode": {
    "name": "ipython",
    "version": 2
   },
   "file_extension": ".py",
   "mimetype": "text/x-python",
   "name": "python",
   "nbconvert_exporter": "python",
   "pygments_lexer": "ipython2",
   "version": "2.7.13"
  }
 },
 "nbformat": 4,
 "nbformat_minor": 1
}
