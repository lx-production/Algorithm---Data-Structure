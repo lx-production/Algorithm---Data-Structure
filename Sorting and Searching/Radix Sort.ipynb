{
 "cells": [
  {
   "cell_type": "code",
   "execution_count": 78,
   "metadata": {
    "scrolled": true
   },
   "outputs": [
    {
     "name": "stdout",
     "output_type": "stream",
     "text": [
      "[[], [-9], [], [-12345678987], [-12345678986], [-12345], [-1234], [-123], [-12], [], [], [], [], [], [], [], [27], [18], [9]]\n",
      "[[], [-12345678987, -12345678986], [], [], [], [-12345], [-1234], [-123], [-12], [-9, 9], [18], [27], [], [], [], [], [], [], []]\n",
      "[[-12345678987, -12345678986], [], [], [], [], [], [-12345], [-1234], [-123], [-12, -9, 9, 18, 27], [], [], [], [], [], [], [], [], []]\n",
      "[[], [-12345678987, -12345678986], [], [], [], [], [], [-12345], [-1234], [-123, -12, -9, 9, 18, 27], [], [], [], [], [], [], [], [], []]\n",
      "[[], [], [-12345678987, -12345678986], [], [], [], [], [], [-12345], [-1234, -123, -12, -9, 9, 18, 27], [], [], [], [], [], [], [], [], []]\n",
      "[[], [], [], [-12345678987, -12345678986], [], [], [], [], [], [-12345, -1234, -123, -12, -9, 9, 18, 27], [], [], [], [], [], [], [], [], []]\n",
      "[[], [], [], [], [-12345678987, -12345678986], [], [], [], [], [-12345, -1234, -123, -12, -9, 9, 18, 27], [], [], [], [], [], [], [], [], []]\n",
      "[[], [], [], [], [], [-12345678987, -12345678986], [], [], [], [-12345, -1234, -123, -12, -9, 9, 18, 27], [], [], [], [], [], [], [], [], []]\n",
      "[[], [], [], [], [], [], [-12345678987, -12345678986], [], [], [-12345, -1234, -123, -12, -9, 9, 18, 27], [], [], [], [], [], [], [], [], []]\n",
      "[[], [], [], [], [], [], [], [-12345678987, -12345678986], [], [-12345, -1234, -123, -12, -9, 9, 18, 27], [], [], [], [], [], [], [], [], []]\n",
      "[[], [], [], [], [], [], [], [], [-12345678987, -12345678986], [-12345, -1234, -123, -12, -9, 9, 18, 27], [], [], [], [], [], [], [], [], []]\n"
     ]
    },
    {
     "data": {
      "text/plain": [
       "[-12345678987, -12345678986, -12345, -1234, -123, -12, -9, 9, 18, 27]"
      ]
     },
     "execution_count": 78,
     "metadata": {},
     "output_type": "execute_result"
    }
   ],
   "source": [
    "def radixSort(a):\n",
    "    r = 10\n",
    "    maxLen = 11\n",
    "    for x in range(maxLen):\n",
    "        bins = [[] for i in range(r+9)]\n",
    "        for y in a:\n",
    "            if(y>=0):\n",
    "                bins[(y/10**x)%r+9].append(y)\n",
    "            else:\n",
    "                bins[(y/10**x)%r].append(y)\n",
    "        print(bins)\n",
    "        a=[]\n",
    "        for section in bins:\n",
    "            a.extend(section)\n",
    "    return a\n",
    "\n",
    "radixSort([9,18,27,-9,-12,-123,-1234,-12345,-12345678987,-12345678986])"
   ]
  },
  {
   "cell_type": "code",
   "execution_count": 74,
   "metadata": {},
   "outputs": [
    {
     "name": "stdout",
     "output_type": "stream",
     "text": [
      "0 1 2 3 4 5 6 7 8 9\n"
     ]
    }
   ],
   "source": [
    "for x in range(10):\n",
    "    print x,"
   ]
  },
  {
   "cell_type": "code",
   "execution_count": 70,
   "metadata": {},
   "outputs": [
    {
     "name": "stdout",
     "output_type": "stream",
     "text": [
      "[-123, -10, -3, 0, 1, 2, 2, 3, 3, 122, 123, 124, 321, 332]\n"
     ]
    }
   ],
   "source": [
    "#RADIX = 10\n",
    "\n",
    "\n",
    "# radix sort that works for non negative integers\n",
    "def radix_sort_nonneg(lst):\n",
    "    RADIX = 10\n",
    "    last_iteration = False\n",
    "    radix_power = 1\n",
    "    while not last_iteration:\n",
    "        # split into buckets\n",
    "        buckets = [[] for _ in range(RADIX)]\n",
    "        last_iteration = True  # unless we find it isn't\n",
    "        for el in lst:\n",
    "            # find the digit corresponding to radix_power\n",
    "            #  example with radix_power = 1000; el = 123456\n",
    "            #  el % (radix_power*RADIX) == 123456 % 10000 == 3456\n",
    "            #  3456 // radix_power == 3456 // 1000 == 3\n",
    "            digit = el % (radix_power*RADIX) // radix_power\n",
    "            buckets[digit].append(el)\n",
    "            if el >= radix_power*RADIX:\n",
    "                last_iteration = False\n",
    "\n",
    "        # flatten\n",
    "        lst = [el for bucket in buckets for el in bucket]\n",
    "        radix_power *= RADIX\n",
    "    return lst\n",
    "\n",
    "\n",
    "def radix_sort(lst):\n",
    "    positive_ints = radix_sort_nonneg( x for x in lst if x >= 0)\n",
    "    negative_ints = radix_sort_nonneg(-x for x in lst if x <  0)\n",
    "    return [-x for x in reversed(negative_ints)] + positive_ints\n",
    "\n",
    "\n",
    "print(radix_sort([1, 2, 3, -3, -10,-123, 332, 123, 124, 122, 2, 321, 3, 0]))"
   ]
  },
  {
   "cell_type": "code",
   "execution_count": 65,
   "metadata": {},
   "outputs": [
    {
     "data": {
      "text/plain": [
       "1"
      ]
     },
     "execution_count": 65,
     "metadata": {},
     "output_type": "execute_result"
    }
   ],
   "source": []
  },
  {
   "cell_type": "code",
   "execution_count": 68,
   "metadata": {},
   "outputs": [
    {
     "name": "stdout",
     "output_type": "stream",
     "text": [
      "123\n"
     ]
    }
   ],
   "source": [
    "def testing():\n",
    "    yesno = False\n",
    "    while not yesno:\n",
    "        \n",
    "        print '123'\n",
    "        yesno = True\n",
    "        \n",
    "testing()\n",
    "        \n",
    "            \n",
    "            \n",
    "\n",
    "        "
   ]
  },
  {
   "cell_type": "code",
   "execution_count": null,
   "metadata": {
    "collapsed": true
   },
   "outputs": [],
   "source": []
  }
 ],
 "metadata": {
  "kernelspec": {
   "display_name": "Python 3",
   "language": "python",
   "name": "python3"
  },
  "language_info": {
   "codemirror_mode": {
    "name": "ipython",
    "version": 2
   },
   "file_extension": ".py",
   "mimetype": "text/x-python",
   "name": "python",
   "nbconvert_exporter": "python",
   "pygments_lexer": "ipython2",
   "version": "2.7.13"
  }
 },
 "nbformat": 4,
 "nbformat_minor": 2
}
