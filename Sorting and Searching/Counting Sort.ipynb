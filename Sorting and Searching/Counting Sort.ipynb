{
 "cells": [
  {
   "cell_type": "code",
   "execution_count": 6,
   "metadata": {},
   "outputs": [
    {
     "data": {
      "text/plain": [
       "[-10, 1, 2, 3, 9]"
      ]
     },
     "execution_count": 6,
     "metadata": {},
     "output_type": "execute_result"
    }
   ],
   "source": [
    "def counting_sort(collection):\n",
    "    \"\"\"Pure implementation of counting sort algorithm in Python\n",
    "    :param collection: some mutable ordered collection with heterogeneous\n",
    "    comparable items inside\n",
    "    :return: the same collection ordered by ascending\n",
    "    Examples:\n",
    "    >>> counting_sort([0, 5, 3, 2, 2])\n",
    "    [0, 2, 2, 3, 5]\n",
    "    >>> counting_sort([])\n",
    "    []\n",
    "    >>> counting_sort([-2, -5, -45])\n",
    "    [-45, -5, -2]\n",
    "    \"\"\"\n",
    "    # if the collection is empty, returns empty\n",
    "    if collection == []:\n",
    "        return []\n",
    "\n",
    "    # get some information about the collection\n",
    "    coll_len = len(collection)\n",
    "    coll_max = max(collection)\n",
    "    coll_min = min(collection)\n",
    "\n",
    "    # create the counting array\n",
    "    counting_arr_length = coll_max + 1 - coll_min\n",
    "    counting_arr = [0] * counting_arr_length\n",
    "\n",
    "    # count how much a number appears in the collection\n",
    "    for number in collection:\n",
    "        counting_arr[number - coll_min] += 1\n",
    "\n",
    "    # sum each position with it's predecessors. now, counting_arr[i] tells\n",
    "    # us how many elements <= i has in the collection\n",
    "    for i in range(1, counting_arr_length):\n",
    "        counting_arr[i] = counting_arr[i] + counting_arr[i-1]\n",
    "\n",
    "    # create the output collection\n",
    "    ordered = [0] * coll_len\n",
    "\n",
    "    # place the elements in the output, respecting the original order (stable\n",
    "    # sort) from end to begin, updating counting_arr\n",
    "    for i in reversed(range(0, coll_len)):\n",
    "        ordered[counting_arr[collection[i] - coll_min]-1] = collection[i]\n",
    "        counting_arr[collection[i] - coll_min] -= 1\n",
    "\n",
    "    return ordered\n",
    "\n",
    "\n",
    "\n",
    "counting_sort( [1,2,3,9,-10])"
   ]
  },
  {
   "cell_type": "code",
   "execution_count": 7,
   "metadata": {},
   "outputs": [
    {
     "data": {
      "text/plain": [
       "[0, 0, 0, 0, 0, 3, 0, 0, 0, 0]"
      ]
     },
     "execution_count": 7,
     "metadata": {},
     "output_type": "execute_result"
    }
   ],
   "source": [
    "count_arr = [0] * 10\n",
    "count_arr[5] = 3\n",
    "count_arr"
   ]
  },
  {
   "cell_type": "markdown",
   "metadata": {},
   "source": [
    "- Stable\n",
    "- Time: O(n+k)\n",
    "- Space: O(n+k)\n",
    "- Best used for small list\n",
    "- Non-comparison sort\n"
   ]
  },
  {
   "cell_type": "markdown",
   "metadata": {},
   "source": [
    "- Stable Sorts: Bubble, Merge, Counting, Radix, Insertion, Timsort, etc...\n",
    "- Unstable (comparison sorts): Heap, Selection, Shell, Quicksort, etc..."
   ]
  },
  {
   "cell_type": "code",
   "execution_count": null,
   "metadata": {
    "collapsed": true
   },
   "outputs": [],
   "source": []
  }
 ],
 "metadata": {
  "kernelspec": {
   "display_name": "Python 3",
   "language": "python",
   "name": "python3"
  },
  "language_info": {
   "codemirror_mode": {
    "name": "ipython",
    "version": 2
   },
   "file_extension": ".py",
   "mimetype": "text/x-python",
   "name": "python",
   "nbconvert_exporter": "python",
   "pygments_lexer": "ipython2",
   "version": "2.7.13"
  }
 },
 "nbformat": 4,
 "nbformat_minor": 2
}
