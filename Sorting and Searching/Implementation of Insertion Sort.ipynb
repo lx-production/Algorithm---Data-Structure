{
 "cells": [
  {
   "cell_type": "markdown",
   "metadata": {},
   "source": [
    "# Implementation of Insertion Sort\n",
    "\n",
    "Insertion Sort builds the final sorted array (or list) one item at a time. It is much less efficient on large lists than more advanced algorithms such as quicksort, heapsort, or merge sort. "
   ]
  },
  {
   "cell_type": "markdown",
   "metadata": {},
   "source": [
    "# Resources for Review\n",
    "\n",
    "Check out the resources below for a review of Insertion sort!\n",
    "\n",
    "* [Wikipedia](https://en.wikipedia.org/wiki/Insertion_sort)\n",
    "* [Visual Algo](http://visualgo.net/sorting.html)\n",
    "* [Animation](http://cs.armstrong.edu/liang/animation/web/InsertionSort.html)\n",
    "* [Sorting Algorithms Animcation with Pseudocode](http://www.sorting-algorithms.com/insertion-sort)"
   ]
  },
  {
   "cell_type": "code",
   "execution_count": 2,
   "metadata": {
    "collapsed": true
   },
   "outputs": [],
   "source": [
    "def insertion_sort(arr):\n",
    "    \n",
    "    # For every index in array\n",
    "    for i in range(1,len(arr)):\n",
    "        \n",
    "        # Set current values and position\n",
    "        currentvalue = arr[i]\n",
    "        position = i\n",
    "        \n",
    "        # Sorted Sublist\n",
    "        while position>0 and arr[position-1]>currentvalue:\n",
    "            \n",
    "            arr[position]=arr[position-1]\n",
    "            position = position-1\n",
    "\n",
    "        arr[position]=currentvalue"
   ]
  },
  {
   "cell_type": "code",
   "execution_count": 20,
   "metadata": {
    "collapsed": true
   },
   "outputs": [],
   "source": [
    "def insertion_sort_t(arr):\n",
    "    \n",
    "    # For every index in array\n",
    "    for i in range(1,len(arr)):\n",
    "        \n",
    "        # Set current values and position\n",
    "        currentvalue = arr[i]\n",
    "        position = i\n",
    "        \n",
    "        # Sorted Sublist\n",
    "        while position>0 and arr[position-1]>currentvalue:\n",
    "            print 'position:', position, 'value: ', arr[position],\n",
    "            arr[position]=arr[position-1]\n",
    "            #print  'arr[position]: ', arr[position], 'arr[position-1]: ', arr[position-1]\n",
    "            print arr\n",
    "            position = position-1\n",
    "\n",
    "        arr[position]=currentvalue"
   ]
  },
  {
   "cell_type": "code",
   "execution_count": 21,
   "metadata": {},
   "outputs": [
    {
     "name": "stdout",
     "output_type": "stream",
     "text": [
      "position: 2 value:  4 [3, 5, 5, 6, 8, 1, 2, 12, 41, 25, -9, 5]\n",
      "position: 5 value:  1 [3, 4, 5, 6, 8, 8, 2, 12, 41, 25, -9, 5]\n",
      "position: 4 value:  8 [3, 4, 5, 6, 6, 8, 2, 12, 41, 25, -9, 5]\n",
      "position: 3 value:  6 [3, 4, 5, 5, 6, 8, 2, 12, 41, 25, -9, 5]\n",
      "position: 2 value:  5 [3, 4, 4, 5, 6, 8, 2, 12, 41, 25, -9, 5]\n",
      "position: 1 value:  4 [3, 3, 4, 5, 6, 8, 2, 12, 41, 25, -9, 5]\n",
      "position: 6 value:  2 [1, 3, 4, 5, 6, 8, 8, 12, 41, 25, -9, 5]\n",
      "position: 5 value:  8 [1, 3, 4, 5, 6, 6, 8, 12, 41, 25, -9, 5]\n",
      "position: 4 value:  6 [1, 3, 4, 5, 5, 6, 8, 12, 41, 25, -9, 5]\n",
      "position: 3 value:  5 [1, 3, 4, 4, 5, 6, 8, 12, 41, 25, -9, 5]\n",
      "position: 2 value:  4 [1, 3, 3, 4, 5, 6, 8, 12, 41, 25, -9, 5]\n",
      "position: 9 value:  25 [1, 2, 3, 4, 5, 6, 8, 12, 41, 41, -9, 5]\n",
      "position: 10 value:  -9 [1, 2, 3, 4, 5, 6, 8, 12, 25, 41, 41, 5]\n",
      "position: 9 value:  41 [1, 2, 3, 4, 5, 6, 8, 12, 25, 25, 41, 5]\n",
      "position: 8 value:  25 [1, 2, 3, 4, 5, 6, 8, 12, 12, 25, 41, 5]\n",
      "position: 7 value:  12 [1, 2, 3, 4, 5, 6, 8, 8, 12, 25, 41, 5]\n",
      "position: 6 value:  8 [1, 2, 3, 4, 5, 6, 6, 8, 12, 25, 41, 5]\n",
      "position: 5 value:  6 [1, 2, 3, 4, 5, 5, 6, 8, 12, 25, 41, 5]\n",
      "position: 4 value:  5 [1, 2, 3, 4, 4, 5, 6, 8, 12, 25, 41, 5]\n",
      "position: 3 value:  4 [1, 2, 3, 3, 4, 5, 6, 8, 12, 25, 41, 5]\n",
      "position: 2 value:  3 [1, 2, 2, 3, 4, 5, 6, 8, 12, 25, 41, 5]\n",
      "position: 1 value:  2 [1, 1, 2, 3, 4, 5, 6, 8, 12, 25, 41, 5]\n",
      "position: 11 value:  5 [-9, 1, 2, 3, 4, 5, 6, 8, 12, 25, 41, 41]\n",
      "position: 10 value:  41 [-9, 1, 2, 3, 4, 5, 6, 8, 12, 25, 25, 41]\n",
      "position: 9 value:  25 [-9, 1, 2, 3, 4, 5, 6, 8, 12, 12, 25, 41]\n",
      "position: 8 value:  12 [-9, 1, 2, 3, 4, 5, 6, 8, 8, 12, 25, 41]\n",
      "position: 7 value:  8 [-9, 1, 2, 3, 4, 5, 6, 6, 8, 12, 25, 41]\n"
     ]
    },
    {
     "data": {
      "text/plain": [
       "[-9, 1, 2, 3, 4, 5, 5, 6, 8, 12, 25, 41]"
      ]
     },
     "execution_count": 21,
     "metadata": {},
     "output_type": "execute_result"
    }
   ],
   "source": [
    "arr =[3,5,4,6,8,1,2,12,41,25,-9,5]\n",
    "insertion_sort_t(arr)\n",
    "arr"
   ]
  },
  {
   "cell_type": "markdown",
   "metadata": {},
   "source": [
    "# Good Job!"
   ]
  }
 ],
 "metadata": {
  "kernelspec": {
   "display_name": "Python 2",
   "language": "python",
   "name": "python2"
  },
  "language_info": {
   "codemirror_mode": {
    "name": "ipython",
    "version": 2
   },
   "file_extension": ".py",
   "mimetype": "text/x-python",
   "name": "python",
   "nbconvert_exporter": "python",
   "pygments_lexer": "ipython2",
   "version": "2.7.13"
  }
 },
 "nbformat": 4,
 "nbformat_minor": 1
}
