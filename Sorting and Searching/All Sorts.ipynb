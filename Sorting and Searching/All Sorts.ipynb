{
 "cells": [
  {
   "cell_type": "code",
   "execution_count": 21,
   "metadata": {
    "collapsed": true
   },
   "outputs": [],
   "source": [
    "def bubble_sort(arr): # O(n^2)\n",
    "    # For every element (arranged backwards)\n",
    "    for n in range(len(arr)-1,0,-1): # arr = [3,2,13,4,6,5,7,8,1,20] -> 9,8,7,6,5,4,3,2,1\n",
    "        #\n",
    "        for k in range(n):\n",
    "            # If we come to a point to switch\n",
    "            if arr[k]>arr[k+1]:\n",
    "                #temp = arr[k]\n",
    "                arr[k], arr[k+1] = arr[k+1], arr[k]\n",
    "                #arr[k+1] = temp\n",
    "    #print arr\n",
    "                \n",
    "def selection_sort(arr):\n",
    "    \n",
    "    # For every slot in array\n",
    "    for n in range(len(arr)-1,0,-1):\n",
    "        positionOfMax=0\n",
    "        \n",
    "        # For every set of 0 to fillslot+1\n",
    "        for m in range(1,n+1):\n",
    "            # Set maximum's location\n",
    "            if arr[m]>arr[positionOfMax]:\n",
    "                positionOfMax = m\n",
    "\n",
    "        #temp = arr[n]\n",
    "        arr[n], arr[positionOfMax] = arr[positionOfMax], arr[n]\n",
    "        #arr[positionOfMax] = temp\n",
    "    #print arr\n",
    "    \n",
    "def insertion_sort(arr):\n",
    "    \n",
    "    # For every index in array\n",
    "    for i in range(1,len(arr)):\n",
    "        \n",
    "        # Set current values and position\n",
    "        currentvalue = arr[i]\n",
    "        position = i\n",
    "        \n",
    "        # Sorted Sublist\n",
    "        while position>0 and arr[position-1]>currentvalue:\n",
    "            \n",
    "            arr[position]=arr[position-1]\n",
    "            position = position-1\n",
    "\n",
    "        arr[position]=currentvalue"
   ]
  },
  {
   "cell_type": "code",
   "execution_count": 22,
   "metadata": {
    "collapsed": true
   },
   "outputs": [],
   "source": [
    "def shell_sort(arr):\n",
    "    sublistcount = len(arr)/2\n",
    "    \n",
    "    # While we still have sub lists\n",
    "    while sublistcount > 0:\n",
    "        for start in range(sublistcount):\n",
    "            # Use a gap insertion\n",
    "            gap_insertion_sort(arr,start,sublistcount)\n",
    "\n",
    "      \n",
    "\n",
    "        sublistcount = sublistcount / 2\n",
    "    #print arr\n",
    "\n",
    "def gap_insertion_sort(arr,start,gap):\n",
    "    for i in range(start+gap,len(arr),gap):\n",
    "\n",
    "        currentvalue = arr[i]\n",
    "        position = i\n",
    "\n",
    "        # Using the Gap\n",
    "        while position>=gap and arr[position-gap]>currentvalue:\n",
    "            arr[position]=arr[position-gap]\n",
    "            position = position-gap\n",
    "        \n",
    "        # Set current value\n",
    "        arr[position]=currentvalue"
   ]
  },
  {
   "cell_type": "code",
   "execution_count": 23,
   "metadata": {},
   "outputs": [
    {
     "name": "stdout",
     "output_type": "stream",
     "text": [
      "bubble:  0.0226209163666\n",
      "selection:  0.00687193870544\n",
      "insertion:  0.00822186470032\n",
      "shell:  0.00133800506592\n"
     ]
    }
   ],
   "source": [
    "import numpy.random as nprnd \n",
    "import time\n",
    "\n",
    "arr = [3926, 8087, 7296, 7751, 5837, 5813, 7781, 9413, 1134, 1997, 4307, 2947, 7614, 9931, 4028, 5143, 5731, 3106, 971, 2062, 5333, 9533, 3955, 6616, 4560, 19, 2716, 7693, 3722, 1354, 8050, 875, 9116, 6432, 7769, 5989, 4542, 6155, 8349, 1648, 3052, 5831, 2857, 5442, 6789, 5235, 634, 8448, 8411, 9422, 8392, 7171, 9829, 6966, 9277, 8106, 5819, 900, 7124, 8026, 509, 4438, 2280, 3157, 3481, 4582, 7735, 2599, 9504, 9546, 8452, 7435, 9824, 1543, 9489, 8989, 2306, 5624, 5463, 2928, 8170, 6983, 7912, 8923, 4191, 7728, 463, 7386, 92, 8514, 2947, 4492, 5407, 3744, 973, 1288, 3083, 2219, 7855, 4055, 1047, 2345, 6884, 2266, 3638, 5190, 5745, 614, 6151, 4621, 9595, 4151, 5293, 9203, 5267, 5121, 1129, 6193, 5571, 6297, 5880, 2757, 8278, 9648, 7030, 1288, 4947, 6315, 2056, 2328, 8213, 7401, 3478, 5461, 1866, 1517, 7880, 1948, 1203, 2642, 3988, 9815, 155, 9199, 1570, 3399, 9338, 7466, 1884, 1180, 6866, 8087, 9537, 1094, 5001, 5704, 8068, 7696, 6519, 2785, 678, 3808, 819, 7943, 6679, 5549, 780, 1114, 1406, 9450, 7831, 4926, 6768, 3754, 8647, 9676, 6874, 7499, 4287, 4948, 903, 1334, 5494, 2045, 8653, 9032, 7570, 2638, 9575, 9965, 6165, 5650, 4005, 4167, 5753, 6430, 9621, 8988, 1204, 3403, 1854, 459, 1677, 2717, 2350, 8332, 9870, 5839, 8242, 3725, 2165, 47, 8819, 3500, 3891, 5866, 3502, 152, 7675, 5672, 9430, 5612, 2178, 1912, 8573, 7332, 4215, 9834, 8626, 4268, 304, 7711, 7130, 9147, 2657, 5688, 9235, 6534, 508, 2912, 3741, 248, 5139, 7140, 9204, 730, 3037, 5927, 651, 7225, 1205, 7943, 1734, 7958, 3833, 8752, 3507, 3096, 183, 3076, 807, 2130, 9090, 6199, 3644, 3259, 385, 8859, 3113, 8445, 4581, 4889, 3685, 8021, 7953, 7725, 6799, 6918, 7929, 7497, 2758, 3435, 6331, 9003, 7587, 2103, 4263, 2201, 5740, 7896, 4620, 5765, 915, 4029, 9034, 7963, 8228, 1102, 5779, 9005, 4037, 6833, 1695, 3278, 3487, 9850, 9510, 5036, 8344, 6049, 9670, 4976, 9220, 7062, 5231, 1416, 1284, 6589, 806, 2948, 5497, 7864, 3781, 2281, 9293, 6925, 3213, 8262, 7585, 7706, 8140, 4555, 9575, 8407, 3349, 2314, 5051, 1187, 1294, 8398, 5073, 2658, 8928, 6649, 6143, 9714, 119, 9225, 1958, 2664, 8966, 4593, 312, 9464, 4850, 446, 4157, 5307, 1683, 2282, 7855, 1190, 9427, 3304, 9621, 8235, 1287, 5338, 5345, 584, 4583, 7938, 1971, 4713, 4771, 2713, 9616, 3839, 9590, 771, 2797, 2172, 3447, 8123, 6534, 7748, 3770, 5367, 7290, 8659, 1006, 2891, 3762, 8967, 5094, 7630, 3172, 1228, 8205, 5409, 6601, 2935, 7228, 6721, 2493, 5056, 7070, 6880, 9706, 9155, 427, 5208, 7867, 7152, 2093, 1497, 1321, 3135, 9906, 1568, 5818, 1423, 8630, 665, 8510, 7401, 6291, 8781, 8686, 4694, 697, 7932, 5694, 127, 9892, 6052, 6039, 9966, 6693, 3595, 9919, 8482, 4008, 6288, 7338, 6480, 2650, 7628, 2827, 9873, 6208, 1565, 6226, 4994, 3737, 5946, 4239, 1351, 9382, 5011, 2092, 7459, 1762, 8438, 9268, 252, 9466, 9115, 7829, 2752, 5354, 255, 7538, 4619, 9707, 8577, 6052, 3984, 7148, 2050, 1947, 3989, 72, 7594, 101, 8776, 1634, 882, 6669, 8797, 2508, 265, 3246, 22, 9053, 6054, 8442, 3348, 7790, 3944]\n",
    "\n",
    "arr1 = list(arr)\n",
    "bubble = time.time()\n",
    "bubble_sort(arr1)\n",
    "print 'bubble: ', time.time()-bubble\n",
    "\n",
    "\n",
    "arr2 = list(arr)\n",
    "selection = time.time()\n",
    "selection_sort(arr2)\n",
    "print 'selection: ', time.time()-selection\n",
    "\n",
    "arr3 = list(arr)\n",
    "insert = time.time()\n",
    "insertion_sort(arr3)\n",
    "print 'insertion: ', time.time()-insert\n",
    "\n",
    "arr3 = list(arr)\n",
    "insert = time.time()\n",
    "shell_sort(arr3)\n",
    "print 'shell: ', time.time()-insert"
   ]
  },
  {
   "cell_type": "code",
   "execution_count": null,
   "metadata": {
    "collapsed": true
   },
   "outputs": [],
   "source": []
  }
 ],
 "metadata": {
  "kernelspec": {
   "display_name": "Python 3",
   "language": "python",
   "name": "python3"
  },
  "language_info": {
   "codemirror_mode": {
    "name": "ipython",
    "version": 2
   },
   "file_extension": ".py",
   "mimetype": "text/x-python",
   "name": "python",
   "nbconvert_exporter": "python",
   "pygments_lexer": "ipython2",
   "version": "2.7.13"
  }
 },
 "nbformat": 4,
 "nbformat_minor": 2
}
