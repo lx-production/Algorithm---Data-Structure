{
 "cells": [
  {
   "cell_type": "code",
   "execution_count": null,
   "metadata": {
    "collapsed": true
   },
   "outputs": [],
   "source": [
    "# Detect if 2 integers have opposite sign\n",
    "\n",
    "(x^y) < 0 = True"
   ]
  },
  {
   "cell_type": "code",
   "execution_count": null,
   "metadata": {
    "collapsed": true
   },
   "outputs": [],
   "source": [
    "# Determining if an integer is a power of 2\n",
    "\n",
    "v & (v-1) = 0"
   ]
  },
  {
   "cell_type": "code",
   "execution_count": null,
   "metadata": {
    "collapsed": true
   },
   "outputs": [],
   "source": [
    "# Odd/Even check\n",
    "\n",
    "Odd = a & 1 = 1\n",
    "Even = a & 1 = 0"
   ]
  },
  {
   "cell_type": "code",
   "execution_count": null,
   "metadata": {
    "collapsed": true
   },
   "outputs": [],
   "source": [
    "# Multiplication Bitwise\n",
    "def mul(a,b):\n",
    "    result = 0\n",
    "    while b != 0:\n",
    "        if b & 1:\n",
    "            result += a\n",
    "        a <<= 1\n",
    "        b >>= 1\n",
    "    return result\n",
    "\n"
   ]
  },
  {
   "cell_type": "code",
   "execution_count": 14,
   "metadata": {},
   "outputs": [
    {
     "data": {
      "text/plain": [
       "987654321"
      ]
     },
     "execution_count": 14,
     "metadata": {},
     "output_type": "execute_result"
    }
   ],
   "source": [
    "# Reverse Digits\n",
    "def digit_rev(x):\n",
    "    reverse = 0\n",
    "    while x > 0:\n",
    "        reminder = x % 10\n",
    "        reverse = reverse * 10 + reminder\n",
    "        x = x // 10\n",
    "    return reverse\n",
    "\n",
    "digit_rev(123456789)"
   ]
  },
  {
   "cell_type": "markdown",
   "metadata": {
    "collapsed": true
   },
   "source": [
    "### **Bit shifting**\n",
    "\n",
    "2 << 1 = 2^2 = 4\n",
    "\n",
    "2 << 2 = 2^3 = 8\n",
    "\n",
    "2 << 3 = 2^4 = 16"
   ]
  },
  {
   "cell_type": "code",
   "execution_count": null,
   "metadata": {
    "collapsed": true
   },
   "outputs": [],
   "source": []
  }
 ],
 "metadata": {
  "kernelspec": {
   "display_name": "Python 2",
   "language": "python",
   "name": "python2"
  },
  "language_info": {
   "codemirror_mode": {
    "name": "ipython",
    "version": 2
   },
   "file_extension": ".py",
   "mimetype": "text/x-python",
   "name": "python",
   "nbconvert_exporter": "python",
   "pygments_lexer": "ipython2",
   "version": "2.7.13"
  }
 },
 "nbformat": 4,
 "nbformat_minor": 2
}
