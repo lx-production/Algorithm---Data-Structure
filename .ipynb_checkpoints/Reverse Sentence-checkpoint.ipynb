{
 "cells": [
  {
   "cell_type": "code",
   "execution_count": 2,
   "metadata": {},
   "outputs": [
    {
     "data": {
      "text/plain": [
       "'sequences.checkingbegintoneedtouscausewillarraytheinnumbersnegativeThenumbers.allofsumthesimplyisresultthethenpositive,allisarraytheIf'"
      ]
     },
     "execution_count": 2,
     "metadata": {},
     "output_type": "execute_result"
    }
   ],
   "source": [
    "def reverse_sen(sentence):\n",
    "    y = sentence.split()\n",
    "    result = []\n",
    "    for word in y:\n",
    "        result.insert(0, word)\n",
    "    return \" \".join(result)\n",
    "\n",
    "sen = \"If the array is all positive, then the result is simply the sum of all numbers. The negative numbers in the array will cause us to need to begin checking sequences.\"\n",
    "reverse_sen(sen)"
   ]
  },
  {
   "cell_type": "code",
   "execution_count": null,
   "metadata": {
    "collapsed": true
   },
   "outputs": [],
   "source": []
  }
 ],
 "metadata": {
  "kernelspec": {
   "display_name": "Python 2",
   "language": "python",
   "name": "python2"
  },
  "language_info": {
   "codemirror_mode": {
    "name": "ipython",
    "version": 2
   },
   "file_extension": ".py",
   "mimetype": "text/x-python",
   "name": "python",
   "nbconvert_exporter": "python",
   "pygments_lexer": "ipython2",
   "version": "2.7.13"
  }
 },
 "nbformat": 4,
 "nbformat_minor": 2
}
