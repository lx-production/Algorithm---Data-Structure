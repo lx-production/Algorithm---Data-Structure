{
 "cells": [
  {
   "cell_type": "code",
   "execution_count": 6,
   "metadata": {},
   "outputs": [
    {
     "name": "stdout",
     "output_type": "stream",
     "text": [
      "[861, 961, 18, 472, 622, 321, 897, 902, 928, 898, 481, 343, 663, 646, 415, 700, 523, 16, 437, 428, 256, 694, 567, 845, 660, 387, 760, 715, 602, 996, 53, 831, 469, 225, 587, 693, 717, 131, 395, 719, 595, 229, 643, 145, 507, 651, 151, 701, 979, 222, 557, 979, 726, 61, 993, 154, 983, 808, 709, 843, 817, 71, 119, 883, 259, 711, 766, 791, 665, 597, 423, 47, 766, 963, 398, 544, 246, 38, 508, 182, 939, 28, 689, 866, 123, 941, 432, 206, 18, 848, 207, 348, 174, 568, 700, 404, 673, 593, 238, 280]\n",
      "time:  0.00171685218811\n"
     ]
    }
   ],
   "source": [
    "import random, time\n",
    "\n",
    "a = [random.randint(0,1000) for r in range(100)]\n",
    "before = time.time()\n",
    "print a\n",
    "print 'time: ', time.time()-before"
   ]
  },
  {
   "cell_type": "code",
   "execution_count": 10,
   "metadata": {},
   "outputs": [
    {
     "name": "stdout",
     "output_type": "stream",
     "text": [
      "[574, 69, 767, 913, 314, 534, 918, 468, 437, 775, 241, 610, 844, 629, 745, 670, 516, 424, 288, 459, 293, 669, 778, 811, 301, 800, 625, 354, 468, 982, 405, 929, 330, 30, 827, 868, 771, 669, 424, 798, 297, 563, 955, 94, 799, 754, 161, 830, 135, 52, 642, 677, 128, 581, 875, 962, 843, 669, 773, 139, 277, 413, 380, 546, 595, 938, 82, 957, 445, 277, 13, 258, 94, 273, 493, 780, 759, 799, 119, 681, 529, 6, 585, 196, 395, 234, 33, 809, 991, 122, 47, 632, 138, 515, 714, 383, 119, 673, 85, 760]\n",
      "time:  0.00171089172363\n"
     ]
    }
   ],
   "source": [
    "# Supposed to be Faster than the regular random\n",
    "import numpy.random as nprnd \n",
    "now = time.time()\n",
    "print list(nprnd.randint(1000,size=100))\n",
    "print 'time: ', time.time()-now"
   ]
  },
  {
   "cell_type": "code",
   "execution_count": null,
   "metadata": {
    "collapsed": true
   },
   "outputs": [],
   "source": []
  }
 ],
 "metadata": {
  "kernelspec": {
   "display_name": "Python 3",
   "language": "python",
   "name": "python3"
  },
  "language_info": {
   "codemirror_mode": {
    "name": "ipython",
    "version": 2
   },
   "file_extension": ".py",
   "mimetype": "text/x-python",
   "name": "python",
   "nbconvert_exporter": "python",
   "pygments_lexer": "ipython2",
   "version": "2.7.13"
  }
 },
 "nbformat": 4,
 "nbformat_minor": 2
}
