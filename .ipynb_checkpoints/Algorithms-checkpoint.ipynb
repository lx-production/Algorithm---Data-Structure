{
 "cells": [
  {
   "cell_type": "markdown",
   "metadata": {},
   "source": [
    "- Create index counters, variables\n",
    "- Create dictionary/hash, empty list, O(1) look up, used for memoization\n",
    "- Create tracking variables \n",
    "- found/stopped/done = False\n",
    " - while not found/stopped/done\n",
    " - while true\n",
    "- Recursion\n",
    "- Divide and conquer\n",
    "- while loops, for loops\n",
    "- a, b = b, a\n",
    "- max, min, sqrt, log\n",
    "- from random import randint, choice\n"
   ]
  },
  {
   "cell_type": "code",
   "execution_count": null,
   "metadata": {
    "collapsed": true
   },
   "outputs": [],
   "source": []
  }
 ],
 "metadata": {
  "kernelspec": {
   "display_name": "Python 3",
   "language": "python",
   "name": "python3"
  },
  "language_info": {
   "codemirror_mode": {
    "name": "ipython",
    "version": 2
   },
   "file_extension": ".py",
   "mimetype": "text/x-python",
   "name": "python",
   "nbconvert_exporter": "python",
   "pygments_lexer": "ipython2",
   "version": "2.7.13"
  }
 },
 "nbformat": 4,
 "nbformat_minor": 2
}
