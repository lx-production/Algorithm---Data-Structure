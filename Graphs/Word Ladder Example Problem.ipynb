{
 "cells": [
  {
   "cell_type": "markdown",
   "metadata": {
    "collapsed": true
   },
   "source": [
    "# Word Ladder Example Code\n",
    "\n",
    "Below is the Vertex and Graph class used for the Word Ladder example code:"
   ]
  },
  {
   "cell_type": "code",
   "execution_count": 1,
   "metadata": {
    "collapsed": true
   },
   "outputs": [],
   "source": [
    "class Vertex:\n",
    "    def __init__(self,key):\n",
    "        self.id = key\n",
    "        self.connectedTo = {}\n",
    "\n",
    "    def addNeighbor(self,nbr,weight=0):\n",
    "        self.connectedTo[nbr] = weight\n",
    "\n",
    "    def __str__(self):\n",
    "        return str(self.id) + ' connectedTo: ' + str([x.id for x in self.connectedTo])\n",
    "\n",
    "    def getConnections(self):\n",
    "        return self.connectedTo.keys()\n",
    "\n",
    "    def getId(self):\n",
    "        return self.id\n",
    "\n",
    "    def getWeight(self,nbr):\n",
    "        return self.connectedTo[nbr]"
   ]
  },
  {
   "cell_type": "code",
   "execution_count": 2,
   "metadata": {
    "collapsed": true
   },
   "outputs": [],
   "source": [
    "class Graph:\n",
    "    def __init__(self):\n",
    "        self.vertList = {}\n",
    "        self.numVertices = 0\n",
    "\n",
    "    def addVertex(self,key):\n",
    "        self.numVertices = self.numVertices + 1\n",
    "        newVertex = Vertex(key)\n",
    "        self.vertList[key] = newVertex\n",
    "        return newVertex\n",
    "\n",
    "    def getVertex(self,n):\n",
    "        if n in self.vertList:\n",
    "            return self.vertList[n]\n",
    "        else:\n",
    "            return None\n",
    "\n",
    "    def __contains__(self,n):\n",
    "        return n in self.vertList\n",
    "\n",
    "    def addEdge(self,f,t,cost=0):\n",
    "        if f not in self.vertList:\n",
    "            nv = self.addVertex(f)\n",
    "        if t not in self.vertList:\n",
    "            nv = self.addVertex(t)\n",
    "        self.vertList[f].addNeighbor(self.vertList[t], cost)\n",
    "\n",
    "    def getVertices(self):\n",
    "        return self.vertList.keys()\n",
    "\n",
    "    def __iter__(self):\n",
    "        return iter(self.vertList.values())"
   ]
  },
  {
   "cell_type": "markdown",
   "metadata": {},
   "source": [
    "Code for buildGraph function:"
   ]
  },
  {
   "cell_type": "code",
   "execution_count": 19,
   "metadata": {
    "collapsed": true
   },
   "outputs": [],
   "source": [
    "def buildGraph(wordFile):\n",
    "    d = {}\n",
    "    g = Graph()\n",
    "    \n",
    "    wfile = open(wordFile,'r')\n",
    "    # create buckets of words that differ by one letter\n",
    "    for line in wfile:\n",
    "        print line\n",
    "        word = line[:-1]  # 'pope'\n",
    "        print word\n",
    "        for i in range(len(word)):\n",
    "            bucket = word[:i] + '_' + word[i+1:]   # '_ope'\n",
    "            if bucket in d:\n",
    "                d[bucket].append(word)\n",
    "            else:\n",
    "                d[bucket] = [word]\n",
    "    # add vertices and edges for words in the same bucket\n",
    "    for bucket in d.keys():\n",
    "        for word1 in d[bucket]:\n",
    "            for word2 in d[bucket]:\n",
    "                if word1 != word2:\n",
    "                    g.addEdge(word1,word2)\n",
    "    return g"
   ]
  },
  {
   "cell_type": "code",
   "execution_count": 11,
   "metadata": {},
   "outputs": [
    {
     "data": {
      "text/plain": [
       "'pope'"
      ]
     },
     "execution_count": 11,
     "metadata": {},
     "output_type": "execute_result"
    }
   ],
   "source": [
    "word = 'pope '\n",
    "#print word[:0] + '_' + word[1:]\n",
    "word[:-1]"
   ]
  },
  {
   "cell_type": "code",
   "execution_count": null,
   "metadata": {
    "collapsed": true
   },
   "outputs": [],
   "source": [
    "from collections import deque\n",
    "\n",
    "# Easy to understand solution\n",
    "class Solution(object):\n",
    "    def ladderLength(self, beginWord, endWord, wordList):\n",
    "        \n",
    "        def construct_dict(word_list):\n",
    "            d = {}\n",
    "            for word in word_list:\n",
    "                for i in range(len(word)):\n",
    "                    s = word[:i] + \"_\" + word[i+1:]\n",
    "                    d[s] = d.get(s, []) + [word]\n",
    "            return d\n",
    "            \n",
    "        def bfs_words(begin, end, dict_words):\n",
    "            queue, visited = deque([(begin, 1)]), set()\n",
    "            while queue:\n",
    "                word, steps = queue.popleft()\n",
    "                if word not in visited:\n",
    "                    visited.add(word)\n",
    "                    if word == end:\n",
    "                        return steps\n",
    "                    for i in range(len(word)):\n",
    "                        s = word[:i] + \"_\" + word[i+1:]\n",
    "                        neigh_words = dict_words.get(s, [])  # if there's no key s, [] will be returned\n",
    "                        for neigh in neigh_words:\n",
    "                            if neigh not in visited:\n",
    "                                queue.append((neigh, steps + 1))\n",
    "            return 0\n",
    "        \n",
    "        d = construct_dict(wordList | set([beginWord, endWord]))\n",
    "        return bfs_words(beginWord, endWord, d)"
   ]
  },
  {
   "cell_type": "code",
   "execution_count": 18,
   "metadata": {},
   "outputs": [
    {
     "name": "stdout",
     "output_type": "stream",
     "text": [
      "['none']\n"
     ]
    }
   ],
   "source": [
    "wordList = {\"hot\",\"dot\",\"dog\",\"lot\",\"log\",\"cog\"}\n",
    "def construct_dict(word_list):\n",
    "    d = {}\n",
    "    for word in word_list:\n",
    "        for i in range(len(word)):\n",
    "            s = word[:i] + \"_\" + word[i+1:]\n",
    "            d[s] = d.get(s, []) + [word]\n",
    "    return d\n",
    "\n",
    "wl = construct_dict(wordList)\n",
    "neigh_words = wl.get('_of',['none'])\n",
    "print neigh_words"
   ]
  },
  {
   "cell_type": "code",
   "execution_count": 2,
   "metadata": {
    "collapsed": true
   },
   "outputs": [],
   "source": [
    "# https://discuss.leetcode.com/topic/43246/simple-to-understand-python-solution-using-list-preprocessing-and-bfs-beats-95\n",
    "# Optimized solution\n",
    "\n",
    "class Solution(object):\n",
    "    def ladderLength(self, beginWord, endWord, wordList):\n",
    "                \n",
    "        def make_p2w(word_list, w_idxs):\n",
    "            \"\"\"Creates a map of all combinations of words with missing letters mapped \n",
    "            to all words in the list that match that pattern.\n",
    "            E.g. hot -> {'_ot': ['hot'], 'h_t': ['hot'], 'ho_': ['hot']}\n",
    "            \"\"\"\n",
    "            p2w = collections.defaultdict(list)\n",
    "            \n",
    "            for word in word_list:\n",
    "                for i, j in w_idxs:\n",
    "                    p = word[:i] + \"_\" + word[j:]\n",
    "                    p2w[p].append(word)\n",
    "            return p2w\n",
    "            \n",
    "        def bfs_words(begin, end, w_idxs, p2w):\n",
    "            queue = collections.deque([(begin, 1)])\n",
    "            visited = set([begin])\n",
    "                        \n",
    "            while queue:\n",
    "                # Get the next node to explore from the top of the queue\n",
    "                word, depth = queue.popleft()\n",
    "                \n",
    "                # Get the node's children \n",
    "                # By recreating all possible patterns for that string\n",
    "                for i,j in w_idxs:\n",
    "                    p = word[:i] + \"_\" + word[j:]\n",
    "                    neighbor_words = p2w[p]\n",
    "                    # Iterate through children\n",
    "                    for nw in neighbor_words:\n",
    "                        if nw not in visited:\n",
    "                            # Goal check (before adding to the queue)\n",
    "                            if nw == end:\n",
    "                                return depth+1\n",
    "                            # Add to visited\n",
    "                            # These is no reason to wait to mark nodes as visited. Because this is \n",
    "                            # a BFS, once a node has been seen that is the earliest it could have\n",
    "                            # possibly been seen so any other path to that node would either be \n",
    "                            # longer or the same length as what we've already observed.\n",
    "                            visited.add(nw)                            \n",
    "                            # Add to the end of the queue\n",
    "                            queue.append((nw, depth+1))\n",
    "            return 0\n",
    "        \n",
    "        # Get word length and character indexes\n",
    "        wl = len(beginWord)\n",
    "        w_indexes = zip(range(wl), range(1, wl+1))\n",
    "        # Preprocess words into a map\n",
    "        patterns2words = make_p2w(wordList | set([beginWord, endWord]), w_indexes)\n",
    "        # Do the search\n",
    "        return bfs_words(beginWord, endWord, w_indexes, patterns2words)"
   ]
  },
  {
   "cell_type": "code",
   "execution_count": 9,
   "metadata": {},
   "outputs": [
    {
     "data": {
      "text/plain": [
       "3"
      ]
     },
     "execution_count": 9,
     "metadata": {},
     "output_type": "execute_result"
    }
   ],
   "source": [
    "from collections import deque\n",
    "queue = deque([('begin', 'end')])\n",
    "#word, depth = queue.popleft()\n",
    "word, depth = 1, 3\n",
    "depth"
   ]
  },
  {
   "cell_type": "markdown",
   "metadata": {},
   "source": [
    "Please reference the video for full explanation!"
   ]
  }
 ],
 "metadata": {
  "kernelspec": {
   "display_name": "Python 2",
   "language": "python",
   "name": "python2"
  },
  "language_info": {
   "codemirror_mode": {
    "name": "ipython",
    "version": 2
   },
   "file_extension": ".py",
   "mimetype": "text/x-python",
   "name": "python",
   "nbconvert_exporter": "python",
   "pygments_lexer": "ipython2",
   "version": "2.7.13"
  }
 },
 "nbformat": 4,
 "nbformat_minor": 1
}
